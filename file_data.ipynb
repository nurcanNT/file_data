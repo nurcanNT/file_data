{
 "cells": [
  {
   "cell_type": "markdown",
   "metadata": {},
   "source": [
    "İstanbul_data.txt dosyamız üzerinde kelime sayma işlemi yapıyoruz.\n",
    "Her kelimeden kaç tane olduğunu bularak dictionary'e oluşturulacak\n",
    "\n",
    "Örneğin: my_dict = {\"istanbul\" : 9, \"başkan\": 6, \"şehir\": 8} böyle bir çıktı elde edeceğiz"
   ]
  },
  {
   "cell_type": "code",
   "execution_count": 4,
   "metadata": {},
   "outputs": [
    {
     "name": "stdout",
     "output_type": "stream",
     "text": [
      "{'draman': 1, 'otoparkı': 1, 'hizmete': 1, 'açıldı': 1, 'esenler’de': 1, 'torunlar,': 1, 'ninelerinin': 1, '8': 1, 'mart': 1, 'dünya': 1, 'kadınlar': 1, 'günü’nü': 1, 'kutladı.': 1, 'i̇ki': 1, 'kuşak': 1, 'birlikte': 1, 'türküler': 1, 'söyleyip': 1, 'gönüllerince': 1, 'eğlendi.': 1, 'esenler': 4, 'belediyesi...': 1, 'ailenin': 1, 'hayat': 2, 'hikâyesini': 1, 'dinleyen': 1, 'belediyesi': 2, 'sosyal': 1, 'yardım': 1, 'i̇şler': 1, 'müdürü': 1, 'özcan': 1, 'hamza': 1, 'acılı': 1, 'anneye': 1, 'belediye': 2, 'başkanı': 1, 'm.': 1, 'tevfik': 2, 'göksu’nun': 1, 'baş': 1, 'sağlığı': 1, 'mesajını': 1, 've': 9, 'selamlarını': 1, 'ilettikten': 1, 'sonra,': 1, 'başkanımız': 1, 'göksu,': 1, 'seda': 1, 'kardeşimizi': 1, 'televizyonda': 1, 'izleyince': 1, 'çok': 1, 'etkilenmiş.': 1, 'onun': 1, 'talimatı': 1, 'ile': 3, 'ekibimizi': 1, 'toplayıp': 1, 'geldik.': 2, 'gelirken': 1, 'yanımızda': 1, 'anne': 1, 'bebekleri': 1, 'için': 1, 'temel': 1, 'ihtiyaç': 1, 'malzemeleri,': 1, 'mama': 1, 'bez': 1, 'getirdik.': 1, 'bunun': 1, 'yanı': 1, 'sıra': 1, 'güngör': 1, 'ailesini': 1, 'kardeş': 1, 'aile': 1, 'projesi': 2, 'kapsamına': 1, 'alıyoruz': 1, 'ailemize': 1, 'her': 1, 'ay': 1, 'düzenli': 1, 'olarak': 2, 'nakdi': 1, 'yardımda': 1, 'bulunma': 1, 'sözü': 1, 'veriyoruz.': 1, 'yaşadıkları': 1, 'acı': 1, 'hepimizin': 1, 'acısı.': 1, 'biz': 1, 'buraya': 1, 'kara': 1, 'gün': 1, 'dostu': 1, 'olmaya': 1, 'yaralarını': 1, 'bir': 4, 'nebze': 1, 'olsun': 1, 'sarabilirsek': 1, 'kendimizi': 1, 'bahtiyar': 1, 'hissedeceğiz': 1, 'dedi.': 1, 'i̇zciler': 1, 'bedenleriyle': 1, '‘zeytin': 1, 'dalı’': 1, 'yazdı': 2, 'telefon:': 1, '0': 1, '212': 1, '649': 1, '17': 1, '55': 1, 'cadde': 2, 'sokaklarda': 1, 'dezenfekte': 1, 'çalışması': 1, 'gazi̇osmanpaşa': 1, 'sanat': 4, 'akademi̇si̇': 1, 'yeni': 1, 'dönem': 3, 'mesleklerden': 1, 'olan': 1, 'kasap-restoran': 1, 'işletmeciliği': 1, 'yapmak': 1, 'nasıl': 1, 'aklınıza': 1, 'geldi?': 1, 'z26.05.2016': 1, 'sharem': 1, 'konu': 1, '•': 1, 'belediyeler': 1, 'tarafından': 2, 'sunulan': 1, 'i̇ntemet': 1, 'hi̇mnetieri̇': 1, '1--d': 1, '2-ruhsatın': 1, 'aslı': 1, 'geliyor!': 1, 'nar': 1, 'projesi;': 1, 'esenlerli': 1, 'kıymetli': 1, 'hanımefendilerin': 1, 'evlerinde': 1, 'üretmekte': 1, 'olduğu': 1, 'örgüden,': 1, 'gıdaya;': 1, 'sanatsal': 1, 'çalışmalardan,': 1, 'hizmet': 1, 'sektörüne': 1, 'kadar': 2, 'uzanan': 1, 'yelpazede': 1, 'tüm': 1, 'üretimlerini': 1, 'güvenle': 1, 'satışa': 1, 'sunabileceği,': 1, 'yurt': 2, 'içi': 2, 'dışı': 1, 'olmak': 1, 'üzere': 1, 'internet': 1, 'daimi': 2, 'satış': 1, 'mecralarından': 1, 'oluşan': 1, 'e-ticaret': 1, 'yola': 1, 'çıktı.': 1, 'dr.': 1, 'kadir': 1, 'topbaş': 1, 'kültür': 1, 'merkezi’ni': 1, 'dolduran': 1, 'vatandaşlar,': 1, 'esev’de': 1, 'yıl': 1, 'boyunca': 1, 'aldıkları': 1, 'eğitimlerle': 1, 'yeteneklerini': 1, 'sergileyen': 1, 'çocuklarını': 2, 'izlediler.': 1, 'evi’nin': 1, '(esev)': 1, 'sonu': 2, 'programı,': 1, 'esev’in': 1, 'kuruluşundan': 1, 'bugüne': 1, 'yapılan': 1, 'programları': 1, 'anlatan': 1, 'tanıtım': 1, 'filmi': 1, 'başladı.': 1, 'türk': 1, 'halk': 1, 'oyunları,': 1, 'bağlama,': 1, 'şan,': 1, 'piyano,': 1, 'diksiyon': 1, ',': 1, 'keman,': 1, 'ney,': 1, 'gitar,': 1, 'resim,': 1, 'hat': 1, 'daha': 1, 'birçok': 1, 'dalından': 1, 'yüzlerce': 1, 'kursiyerin': 1, 'performanslarını': 1, 'sergiledikleri': 1, 'esev': 1, 'programına': 1, 'esenlerliler': 1, 'yoğun': 1, 'ilgi': 1, 'gösterdi.': 1, 'abdülhakim': 1, 'kaya': 1, 'hi̇zmeti̇n': 1, 'yapilacaği': 1, 'yer': 1, ':': 1, 'atatürk': 1, 'mahallesi': 2, 'ataşehir': 1, 'bulvar': 1, 'caddesi': 1, '5.': 1, 'arasında': 1, 'kalan': 1, 'park': 1, '5': 1, 'belediyeye': 1, 'müracaat': 1, 'eden': 1, 'kişilerin': 1, 'evlilik': 2, 'akitlerinin': 1, 'gerçekleştirilmesini': 1, 'sağlamak,': 1, 'meclis': 1, 'kararı': 1, '58': 1}\n"
     ]
    }
   ],
   "source": [
    "new_data = \"kocaeli.txt.txt\"\n",
    "\n",
    "with open(new_data, \"r\", encoding=\"UTF-8\") as f:\n",
    "    lines = f.readlines() #her satırı okuyup diziye ekliyoruz.\n",
    "    \n",
    "def word_count(lines):\n",
    "    arr = dict()    #dictionary listesine atayacagız.\n",
    "    for line in lines:\n",
    "        words = line.lower().split()  #lower kullanarak karakterleri küçültüyoruz\n",
    "                                      # ve split kullanarak karakter dizimizdeki her boşluktan ayırır\n",
    "        for i in words:\n",
    "            if i not in arr:\n",
    "                arr[i] = 1\n",
    "            else:\n",
    "                arr[i] += 1\n",
    "    return arr\n",
    "print(word_count(lines))"
   ]
  }
 ],
 "metadata": {
  "kernelspec": {
   "display_name": "Python 3.10.5 64-bit (windows store)",
   "language": "python",
   "name": "python3"
  },
  "language_info": {
   "codemirror_mode": {
    "name": "ipython",
    "version": 3
   },
   "file_extension": ".py",
   "mimetype": "text/x-python",
   "name": "python",
   "nbconvert_exporter": "python",
   "pygments_lexer": "ipython3",
   "version": "3.10.5"
  },
  "orig_nbformat": 4,
  "vscode": {
   "interpreter": {
    "hash": "3fbbf02bd84b59319ae90c5df29ea12598dad09c619f8b1723e7cd6cf5fd4ac7"
   }
  }
 },
 "nbformat": 4,
 "nbformat_minor": 2
}
